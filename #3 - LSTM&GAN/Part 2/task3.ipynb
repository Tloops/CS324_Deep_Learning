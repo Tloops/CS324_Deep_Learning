{
 "cells": [
  {
   "cell_type": "markdown",
   "metadata": {
    "collapsed": true,
    "pycharm": {
     "name": "#%% md\n"
    }
   },
   "source": [
    "# Task 3\n",
    "Showing the latent space\n"
   ]
  },
  {
   "cell_type": "code",
   "execution_count": 51,
   "outputs": [],
   "source": [
    "import torch\n",
    "from torchvision.utils import save_image\n",
    "from my_gan import Generator\n",
    "from PIL import Image\n",
    "\n",
    "generator = Generator(100)\n",
    "state_dict = torch.load('./mnist_generator.pth', map_location='cpu')\n",
    "generator.load_state_dict(state_dict)\n",
    "generator.eval()\n",
    "\n",
    "begin = torch.rand(100).view(1, 100)\n",
    "end = torch.rand(100).view(1, 100)\n",
    "img_begin = generator(begin).view(1, 1, 28, 28)\n",
    "img_end = generator(end).view(1, 1, 28, 28)\n",
    "\n",
    "save_image(img_begin, 'images/begin.png', nrow=1, normalize=True)\n",
    "save_image(img_end, 'images/end.png', nrow=1, normalize=True)"
   ],
   "metadata": {
    "collapsed": false,
    "pycharm": {
     "name": "#%%\n"
    }
   }
  },
  {
   "cell_type": "code",
   "execution_count": 52,
   "outputs": [],
   "source": [
    "noises = []\n",
    "num = 9\n",
    "\n",
    "for i in range(1, num):\n",
    "    noise = begin + (i / num) * (end - begin)\n",
    "    noises.append(noise)\n",
    "\n",
    "for i in range(num-1):\n",
    "    img = generator(noises[i]).view(1, 1, 28, 28)\n",
    "    save_image(img, 'images/res'+ str(i) +'.png', nrow=num, normalize=True)"
   ],
   "metadata": {
    "collapsed": false,
    "pycharm": {
     "name": "#%%\n"
    }
   }
  },
  {
   "cell_type": "code",
   "execution_count": 53,
   "outputs": [
    {
     "data": {
      "text/plain": "<PIL.PngImagePlugin.PngImageFile image mode=RGB size=28x28 at 0x15E40CACFD0>",
      "image/png": "[encoded data removed]"
     },
     "metadata": {},
     "output_type": "display_data"
    },
    {
     "data": {
      "text/plain": "<PIL.PngImagePlugin.PngImageFile image mode=RGB size=28x28 at 0x15E40CACBA8>",
      "image/png": "[encoded data removed]"
     },
     "metadata": {},
     "output_type": "display_data"
    },
    {
     "data": {
      "text/plain": "<PIL.PngImagePlugin.PngImageFile image mode=RGB size=28x28 at 0x15E40CACE48>",
      "image/png": "[encoded data removed]"
     },
     "metadata": {},
     "output_type": "display_data"
    },
    {
     "data": {
      "text/plain": "<PIL.PngImagePlugin.PngImageFile image mode=RGB size=28x28 at 0x15E40CACF60>",
      "image/png": "[encoded data removed]"
     },
     "metadata": {},
     "output_type": "display_data"
    },
    {
     "data": {
      "text/plain": "<PIL.PngImagePlugin.PngImageFile image mode=RGB size=28x28 at 0x15E40CACFD0>",
      "image/png": "[encoded data removed]"
     },
     "metadata": {},
     "output_type": "display_data"
    },
    {
     "data": {
      "text/plain": "<PIL.PngImagePlugin.PngImageFile image mode=RGB size=28x28 at 0x15E40CACBA8>",
      "image/png": "[encoded data removed]"
     },
     "metadata": {},
     "output_type": "display_data"
    },
    {
     "data": {
      "text/plain": "<PIL.PngImagePlugin.PngImageFile image mode=RGB size=28x28 at 0x15E40CACE48>",
      "image/png": "[encoded data removed]"
     },
     "metadata": {},
     "output_type": "display_data"
    },
    {
     "data": {
      "text/plain": "<PIL.PngImagePlugin.PngImageFile image mode=RGB size=28x28 at 0x15E40CACF60>",
      "image/png": "[encoded data removed]"
     },
     "metadata": {},
     "output_type": "display_data"
    },
    {
     "data": {
      "text/plain": "<PIL.PngImagePlugin.PngImageFile image mode=RGB size=28x28 at 0x15E40CACFD0>",
      "image/png": "[encoded data removed]"
     },
     "metadata": {},
     "output_type": "display_data"
    },
    {
     "data": {
      "text/plain": "<PIL.PngImagePlugin.PngImageFile image mode=RGB size=28x28 at 0x15E40CACBA8>",
      "image/png": "[encoded data removed]"
     },
     "metadata": {},
     "output_type": "display_data"
    }
   ],
   "source": [
    "display(Image.open(\"./images/begin.png\"))\n",
    "display(Image.open(\"./images/res0.png\"))\n",
    "display(Image.open(\"./images/res1.png\"))\n",
    "display(Image.open(\"./images/res2.png\"))\n",
    "display(Image.open(\"./images/res3.png\"))\n",
    "display(Image.open(\"./images/res4.png\"))\n",
    "display(Image.open(\"./images/res5.png\"))\n",
    "display(Image.open(\"./images/res6.png\"))\n",
    "display(Image.open(\"./images/res7.png\"))\n",
    "display(Image.open(\"./images/end.png\"))"
   ],
   "metadata": {
    "collapsed": false,
    "pycharm": {
     "name": "#%%\n"
    }
   }
  }
 ],
 "metadata": {
  "kernelspec": {
   "display_name": "Python 3",
   "language": "python",
   "name": "python3"
  },
  "language_info": {
   "codemirror_mode": {
    "name": "ipython",
    "version": 2
   },
   "file_extension": ".py",
   "mimetype": "text/x-python",
   "name": "python",
   "nbconvert_exporter": "python",
   "pygments_lexer": "ipython2",
   "version": "2.7.6"
  }
 },
 "nbformat": 4,
 "nbformat_minor": 0
}