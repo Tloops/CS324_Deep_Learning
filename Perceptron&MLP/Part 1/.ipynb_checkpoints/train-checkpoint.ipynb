{
 "cells": [
  {
   "cell_type": "markdown",
   "id": "3ca614d0",
   "metadata": {},
   "source": [
    "## 1 Generate train and test data"
   ]
  },
  {
   "cell_type": "code",
   "execution_count": 21,
   "id": "63914311",
   "metadata": {},
   "outputs": [],
   "source": [
    "import numpy as np"
   ]
  },
  {
   "cell_type": "code",
   "execution_count": 22,
   "id": "15057a8b",
   "metadata": {},
   "outputs": [],
   "source": [
    "def generate(m1, s1, m2, s2):\n",
    "    x1 = np.random.normal(loc=m1, scale=s1, size=(200, 2))\n",
    "    y1 = np.ones((200))\n",
    "    x2 = np.random.normal(loc=m2, scale=s2, size=(200, 2))\n",
    "    y2 = -np.ones((200))\n",
    "    return x1, x2, y1, y2"
   ]
  },
  {
   "cell_type": "code",
   "execution_count": 31,
   "id": "3e8fad9b",
   "metadata": {},
   "outputs": [],
   "source": [
    "mu1, sigma1 = 0, 20\n",
    "mu2, sigma2 = 10, 20\n",
    "\n",
    "x1, x2, y1, y2 = generate(mu1, sigma1, mu2, sigma2)\n",
    "x1_train, x1_test = x1[:160], x1[160:]\n",
    "x2_train, x2_test = x2[:160], x2[160:]\n",
    "y1_train, y1_test = y1[:160], y1[160:]\n",
    "y2_train, y2_test = y2[:160], y2[160:]\n",
    "\n",
    "x_train = np.concatenate((x1_train, x2_train), axis=0)\n",
    "y_train = np.concatenate((y1_train, y2_train), axis=0)\n",
    "x_test = np.concatenate((x1_test, x2_test), axis=0)\n",
    "y_test = np.concatenate((y1_test, y2_test), axis=0)"
   ]
  },
  {
   "cell_type": "markdown",
   "id": "6e96920f",
   "metadata": {},
   "source": [
    "### A simple visualization of the dataset"
   ]
  },
  {
   "cell_type": "code",
   "execution_count": 33,
   "id": "81c9e0ba",
   "metadata": {},
   "outputs": [
    {
     "data": {
      "text/plain": [
       "[<matplotlib.lines.Line2D at 0x26671fd73c8>]"
      ]
     },
     "execution_count": 33,
     "metadata": {},
     "output_type": "execute_result"
    },
    {
     "data": {
      "image/png": "[encoded data removed]",
      "text/plain": [
       "<Figure size 360x360 with 1 Axes>"
      ]
     },
     "metadata": {
      "needs_background": "light"
     },
     "output_type": "display_data"
    }
   ],
   "source": [
    "import matplotlib.pyplot as plt\n",
    "\n",
    "fig, ax = plt.subplots(figsize=(5, 5))\n",
    "ax.plot(x_train[:160, 0], x_train[:160, 1], \"o\", markerfacecolor=\"red\", markeredgecolor=\"red\")\n",
    "ax.plot(x_train[160:, 0], x_train[160:, 1], \"o\")"
   ]
  },
  {
   "cell_type": "markdown",
   "id": "d1575e1b",
   "metadata": {},
   "source": [
    "### Random shuffle the train dataset"
   ]
  },
  {
   "cell_type": "code",
   "execution_count": 16,
   "id": "9560fb83",
   "metadata": {},
   "outputs": [],
   "source": [
    "permutation = np.random.permutation(x_train.shape[0])\n",
    "x_train = x_train[permutation, :]\n",
    "y_train = y_train[permutation]"
   ]
  },
  {
   "cell_type": "markdown",
   "id": "a67e597c",
   "metadata": {},
   "source": [
    "## 2 train a model"
   ]
  },
  {
   "cell_type": "code",
   "execution_count": 17,
   "id": "b59fb0e9",
   "metadata": {},
   "outputs": [
    {
     "name": "stdout",
     "output_type": "stream",
     "text": [
      "epoch 000: acc -> 48.8\n",
      "epoch 001: acc -> 58.8\n",
      "epoch 002: acc -> 48.1\n",
      "epoch 003: acc -> 55.0\n",
      "epoch 004: acc -> 60.9\n",
      "epoch 005: acc -> 36.9\n",
      "epoch 006: acc -> 59.4\n",
      "epoch 007: acc -> 59.4\n",
      "epoch 008: acc -> 61.9\n",
      "epoch 009: acc -> 44.1\n",
      "epoch 010: acc -> 37.8\n",
      "epoch 011: acc -> 63.1\n",
      "epoch 012: acc -> 40.9\n",
      "epoch 013: acc -> 61.6\n",
      "epoch 014: acc -> 48.8\n",
      "epoch 015: acc -> 55.9\n",
      "epoch 016: acc -> 36.6\n",
      "epoch 017: acc -> 58.8\n",
      "epoch 018: acc -> 40.6\n",
      "epoch 019: acc -> 36.2\n",
      "epoch 020: acc -> 63.4\n",
      "epoch 021: acc -> 63.7\n",
      "epoch 022: acc -> 63.7\n",
      "epoch 023: acc -> 62.5\n",
      "epoch 024: acc -> 57.8\n",
      "epoch 025: acc -> 63.7\n",
      "epoch 026: acc -> 62.2\n",
      "epoch 027: acc -> 57.2\n",
      "epoch 028: acc -> 59.4\n",
      "epoch 029: acc -> 63.7\n",
      "epoch 030: acc -> 59.1\n",
      "epoch 031: acc -> 38.1\n",
      "epoch 032: acc -> 62.5\n",
      "epoch 033: acc -> 51.9\n",
      "epoch 034: acc -> 39.4\n",
      "epoch 035: acc -> 63.7\n",
      "epoch 036: acc -> 51.9\n",
      "epoch 037: acc -> 61.9\n",
      "epoch 038: acc -> 36.6\n",
      "epoch 039: acc -> 62.8\n",
      "epoch 040: acc -> 62.8\n",
      "epoch 041: acc -> 55.3\n",
      "epoch 042: acc -> 59.7\n",
      "epoch 043: acc -> 55.9\n",
      "epoch 044: acc -> 63.7\n",
      "epoch 045: acc -> 37.5\n",
      "epoch 046: acc -> 60.0\n",
      "epoch 047: acc -> 46.2\n",
      "epoch 048: acc -> 62.2\n",
      "epoch 049: acc -> 42.2\n",
      "epoch 050: acc -> 55.9\n",
      "epoch 051: acc -> 61.9\n",
      "epoch 052: acc -> 62.2\n",
      "epoch 053: acc -> 60.6\n",
      "epoch 054: acc -> 40.6\n",
      "epoch 055: acc -> 54.4\n",
      "epoch 056: acc -> 40.3\n",
      "epoch 057: acc -> 36.6\n",
      "epoch 058: acc -> 62.2\n",
      "epoch 059: acc -> 56.6\n",
      "epoch 060: acc -> 62.2\n",
      "epoch 061: acc -> 51.6\n",
      "epoch 062: acc -> 62.2\n",
      "epoch 063: acc -> 62.2\n",
      "epoch 064: acc -> 51.2\n",
      "epoch 065: acc -> 61.3\n",
      "epoch 066: acc -> 53.1\n",
      "epoch 067: acc -> 60.3\n",
      "epoch 068: acc -> 51.9\n",
      "epoch 069: acc -> 50.3\n",
      "epoch 070: acc -> 63.1\n",
      "epoch 071: acc -> 63.7\n",
      "epoch 072: acc -> 59.4\n",
      "epoch 073: acc -> 59.1\n",
      "epoch 074: acc -> 61.9\n",
      "epoch 075: acc -> 51.6\n",
      "epoch 076: acc -> 42.8\n",
      "epoch 077: acc -> 60.9\n",
      "epoch 078: acc -> 63.4\n",
      "epoch 079: acc -> 36.6\n",
      "epoch 080: acc -> 63.4\n",
      "epoch 081: acc -> 63.1\n",
      "epoch 082: acc -> 42.8\n",
      "epoch 083: acc -> 52.5\n",
      "epoch 084: acc -> 61.9\n",
      "epoch 085: acc -> 51.6\n",
      "epoch 086: acc -> 62.2\n",
      "epoch 087: acc -> 60.0\n",
      "epoch 088: acc -> 41.2\n",
      "epoch 089: acc -> 63.1\n",
      "epoch 090: acc -> 55.9\n",
      "epoch 091: acc -> 57.8\n",
      "epoch 092: acc -> 60.9\n",
      "epoch 093: acc -> 37.5\n",
      "epoch 094: acc -> 37.5\n",
      "epoch 095: acc -> 63.4\n",
      "epoch 096: acc -> 60.0\n",
      "epoch 097: acc -> 45.0\n",
      "epoch 098: acc -> 61.6\n",
      "epoch 099: acc -> 36.2\n",
      "Train finished!\n"
     ]
    }
   ],
   "source": [
    "from perceptron import Perceptron\n",
    "\n",
    "p = Perceptron(n_inputs=2, max_epochs=1e2, learning_rate=1e-2)\n",
    "p.train(x_train, y_train)"
   ]
  },
  {
   "cell_type": "markdown",
   "id": "67833601",
   "metadata": {},
   "source": [
    "## 3 test the model"
   ]
  },
  {
   "cell_type": "code",
   "execution_count": 18,
   "id": "256bba16",
   "metadata": {},
   "outputs": [
    {
     "name": "stdout",
     "output_type": "stream",
     "text": [
      "Classification accuracy: 37.5%\n"
     ]
    }
   ],
   "source": [
    "acc = p.test(x_test, y_test)\n",
    "print('Classification accuracy: %.1f%%' % acc )"
   ]
  },
  {
   "cell_type": "code",
   "execution_count": null,
   "id": "ff2d6d4e",
   "metadata": {},
   "outputs": [],
   "source": []
  }
 ],
 "metadata": {
  "kernelspec": {
   "display_name": "Python 3 (ipykernel)",
   "language": "python",
   "name": "python3"
  },
  "language_info": {
   "codemirror_mode": {
    "name": "ipython",
    "version": 3
   },
   "file_extension": ".py",
   "mimetype": "text/x-python",
   "name": "python",
   "nbconvert_exporter": "python",
   "pygments_lexer": "ipython3",
   "version": "3.7.2"
  }
 },
 "nbformat": 4,
 "nbformat_minor": 5
}
