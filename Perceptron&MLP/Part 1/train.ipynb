{
 "cells": [
  {
   "cell_type": "markdown",
   "id": "3ca614d0",
   "metadata": {},
   "source": [
    "## 1 Generate train and test data"
   ]
  },
  {
   "cell_type": "code",
   "execution_count": 1,
   "id": "63914311",
   "metadata": {},
   "outputs": [],
   "source": [
    "import numpy as np"
   ]
  },
  {
   "cell_type": "code",
   "execution_count": 2,
   "id": "15057a8b",
   "metadata": {},
   "outputs": [],
   "source": [
    "def generate(m1, s1, m2, s2):\n",
    "    x1 = np.random.normal(loc=m1, scale=s1, size=(200, 2))\n",
    "    y1 = np.ones((200))\n",
    "    x2 = np.random.normal(loc=m2, scale=s2, size=(200, 2))\n",
    "    y2 = -np.ones((200))\n",
    "    return x1, x2, y1, y2"
   ]
  },
  {
   "cell_type": "code",
   "execution_count": 3,
   "id": "3e8fad9b",
   "metadata": {},
   "outputs": [],
   "source": [
    "mu1, sigma1 = -5, 1\n",
    "mu2, sigma2 = 5, 1\n",
    "\n",
    "x1, x2, y1, y2 = generate(mu1, sigma1, mu2, sigma2)\n",
    "x1_train, x1_test = x1[:160], x1[160:]\n",
    "x2_train, x2_test = x2[:160], x2[160:]\n",
    "y1_train, y1_test = y1[:160], y1[160:]\n",
    "y2_train, y2_test = y2[:160], y2[160:]\n",
    "\n",
    "x_train = np.concatenate((x1_train, x2_train), axis=0)\n",
    "y_train = np.concatenate((y1_train, y2_train), axis=0)\n",
    "x_test = np.concatenate((x1_test, x2_test), axis=0)\n",
    "y_test = np.concatenate((y1_test, y2_test), axis=0)"
   ]
  },
  {
   "cell_type": "markdown",
   "id": "5c72449c",
   "metadata": {},
   "source": [
    "### A simple visualization of the dataset\n",
    "This can give us a better understanding about the training result"
   ]
  },
  {
   "cell_type": "code",
   "execution_count": 4,
   "id": "d66e7af9",
   "metadata": {},
   "outputs": [
    {
     "data": {
      "text/plain": [
       "[<matplotlib.lines.Line2D at 0x1db9901a710>]"
      ]
     },
     "execution_count": 4,
     "metadata": {},
     "output_type": "execute_result"
    },
    {
     "data": {
      "image/png": "[encoded data removed]",
      "text/plain": [
       "<Figure size 360x360 with 1 Axes>"
      ]
     },
     "metadata": {
      "needs_background": "light"
     },
     "output_type": "display_data"
    }
   ],
   "source": [
    "import matplotlib.pyplot as plt\n",
    "\n",
    "fig, ax = plt.subplots(figsize=(5, 5))\n",
    "ax.plot(x1[:, 0], x1[:, 1], \"o\", markerfacecolor=\"red\", markeredgecolor=\"red\")\n",
    "ax.plot(x2[:, 0], x2[:, 1], \"o\", markerfacecolor=\"blue\", markeredgecolor=\"blue\")"
   ]
  },
  {
   "cell_type": "markdown",
   "id": "d1575e1b",
   "metadata": {},
   "source": [
    "### Random shuffle the train dataset"
   ]
  },
  {
   "cell_type": "code",
   "execution_count": 5,
   "id": "9560fb83",
   "metadata": {},
   "outputs": [],
   "source": [
    "permutation = np.random.permutation(x_train.shape[0])\n",
    "x_train = x_train[permutation, :]\n",
    "y_train = y_train[permutation]"
   ]
  },
  {
   "cell_type": "markdown",
   "id": "a67e597c",
   "metadata": {},
   "source": [
    "## 2 Train the perceptron"
   ]
  },
  {
   "cell_type": "code",
   "execution_count": 6,
   "id": "b59fb0e9",
   "metadata": {},
   "outputs": [
    {
     "name": "stdout",
     "output_type": "stream",
     "text": [
      "epoch 010: acc -> 100.0\n",
      "epoch 020: acc -> 100.0\n",
      "epoch 030: acc -> 100.0\n",
      "epoch 040: acc -> 100.0\n",
      "epoch 050: acc -> 100.0\n",
      "epoch 060: acc -> 100.0\n",
      "epoch 070: acc -> 100.0\n",
      "epoch 080: acc -> 100.0\n",
      "epoch 090: acc -> 100.0\n",
      "epoch 100: acc -> 100.0\n",
      "Train finished!\n"
     ]
    }
   ],
   "source": [
    "from perceptron import Perceptron\n",
    "\n",
    "p = Perceptron(n_inputs=2, max_epochs=1e2, learning_rate=1e-2)\n",
    "p.train(x_train, y_train)"
   ]
  },
  {
   "cell_type": "markdown",
   "id": "67833601",
   "metadata": {},
   "source": [
    "## 3 Test the accuracy of the perceptron"
   ]
  },
  {
   "cell_type": "code",
   "execution_count": 7,
   "id": "256bba16",
   "metadata": {},
   "outputs": [
    {
     "name": "stdout",
     "output_type": "stream",
     "text": [
      "Classification accuracy: 100.0%\n"
     ]
    }
   ],
   "source": [
    "acc = p.test(x_test, y_test)\n",
    "print('Classification accuracy: %.1f%%' % acc )"
   ]
  },
  {
   "cell_type": "code",
   "execution_count": null,
   "id": "ff2d6d4e",
   "metadata": {},
   "outputs": [],
   "source": []
  }
 ],
 "metadata": {
  "kernelspec": {
   "display_name": "Python 3 (ipykernel)",
   "language": "python",
   "name": "python3"
  },
  "language_info": {
   "codemirror_mode": {
    "name": "ipython",
    "version": 3
   },
   "file_extension": ".py",
   "mimetype": "text/x-python",
   "name": "python",
   "nbconvert_exporter": "python",
   "pygments_lexer": "ipython3",
   "version": "3.7.2"
  }
 },
 "nbformat": 4,
 "nbformat_minor": 5
}
